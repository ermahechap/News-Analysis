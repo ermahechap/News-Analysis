{
 "cells": [
  {
   "cell_type": "code",
   "execution_count": 2,
   "metadata": {},
   "outputs": [],
   "source": [
    "import pandas as pd\n",
    "import numpy as np\n",
    "import datetime\n",
    "import os\n",
    "import sys\n",
    "import re\n",
    "from NewsCrawler import Crawlers"
   ]
  },
  {
   "cell_type": "markdown",
   "metadata": {},
   "source": [
    "## Crawling news headers"
   ]
  },
  {
   "cell_type": "code",
   "execution_count": 11,
   "metadata": {},
   "outputs": [],
   "source": [
    "search_terms = [\n",
    "    'paro',\n",
    "    'paro nacional',\n",
    "    'covid',\n",
    "    'vacuna',\n",
    "    'coronavirus',\n",
    "    'manifestantes',\n",
    "    'vandalismo'\n",
    "]\n",
    "dates={\n",
    "    'start': datetime.date(year=2021, month=4, day=28),\n",
    "    'end': datetime.datetime.now().date()\n",
    "}"
   ]
  },
  {
   "cell_type": "code",
   "execution_count": 12,
   "metadata": {},
   "outputs": [
    {
     "name": "stdout",
     "output_type": "stream",
     "text": [
      "lookup term: paro\n"
     ]
    },
    {
     "name": "stderr",
     "output_type": "stream",
     "text": [
      "100%|██████████| 174/174 [28:33<00:00,  9.85s/it]\n"
     ]
    },
    {
     "name": "stdout",
     "output_type": "stream",
     "text": [
      "lookup term: paro nacional\n"
     ]
    },
    {
     "name": "stderr",
     "output_type": "stream",
     "text": [
      "100%|██████████| 147/147 [27:03<00:00, 11.05s/it]\n"
     ]
    },
    {
     "name": "stdout",
     "output_type": "stream",
     "text": [
      "lookup term: covid\n"
     ]
    },
    {
     "name": "stderr",
     "output_type": "stream",
     "text": [
      "100%|██████████| 151/151 [31:51<00:00, 12.66s/it]\n"
     ]
    },
    {
     "name": "stdout",
     "output_type": "stream",
     "text": [
      "lookup term: vacuna\n"
     ]
    },
    {
     "name": "stderr",
     "output_type": "stream",
     "text": [
      "100%|██████████| 30/30 [06:04<00:00, 12.14s/it]\n"
     ]
    },
    {
     "name": "stdout",
     "output_type": "stream",
     "text": [
      "lookup term: coronavirus\n"
     ]
    },
    {
     "name": "stderr",
     "output_type": "stream",
     "text": [
      "100%|██████████| 55/55 [08:26<00:00,  9.22s/it]\n"
     ]
    },
    {
     "name": "stdout",
     "output_type": "stream",
     "text": [
      "lookup term: manifestantes\n"
     ]
    },
    {
     "name": "stderr",
     "output_type": "stream",
     "text": [
      "100%|██████████| 85/85 [10:52<00:00,  7.68s/it]\n"
     ]
    },
    {
     "name": "stdout",
     "output_type": "stream",
     "text": [
      "lookup term: vandalismo\n"
     ]
    },
    {
     "name": "stderr",
     "output_type": "stream",
     "text": [
      "100%|██████████| 43/43 [05:17<00:00,  7.39s/it]\n"
     ]
    }
   ],
   "source": [
    "jointerms = lambda x: '+'.join(x.split(' '))\n",
    "\n",
    "str_start_date = dates['start'].strftime('%y-%m-%d')\n",
    "str_end_date = dates['end'].strftime('%y-%n-%d')\n",
    "\n",
    "for term in search_terms:\n",
    "    print(\"lookup term:\",term)\n",
    "    term = jointerms(term)\n",
    "    search_param = '?q={}&publishedAt%5Bfrom%5D={}&publishedAt%5Buntil%5D={}&contentTypes%5B0%5D=article'.format(term, str_start_date, str_end_date)\n",
    "    url = 'https://www.eltiempo.com/buscar'+search_param\n",
    "    r_url = 'https://www.eltiempo.com/buscar/{}' + search_param\n",
    "    eltiempo = Crawlers.ElTiempo(url, r_url, dbs_path='./data/eltiempo/')\n",
    "    eltiempo.get_articles()\n",
    "    eltiempo.driver.quit() # end the driver. Required because we are not running the scrape_loop method.\n"
   ]
  },
  {
   "cell_type": "code",
   "execution_count": 16,
   "metadata": {},
   "outputs": [
    {
     "name": "stderr",
     "output_type": "stream",
     "text": [
      "100%|██████████| 1725/1725 [3:22:43<00:00,  7.05s/it]  \n"
     ]
    }
   ],
   "source": [
    "eltiempo = Crawlers.ElTiempo(url, r_url, consecutive_crawls=200, dbs_path='./data/eltiempo/')    \n",
    "eltiempo.scrape_loop()"
   ]
  },
  {
   "cell_type": "code",
   "execution_count": null,
   "metadata": {},
   "outputs": [],
   "source": [
    "for term in search_terms:\n",
    "    print(\"lookup term:\",term)\n",
    "    semana = Crawlers.Semana(search_term=term, dbs_path='./data/')\n",
    "    semana.get_articles(dates)\n",
    "    semana.driver.quit() # end the driver. Required because we are not running the scrape_loop method."
   ]
  },
  {
   "cell_type": "code",
   "execution_count": null,
   "metadata": {},
   "outputs": [],
   "source": [
    "semana = Crawlers.Semana(search_term=term, dbs_path='./data/')\n",
    "semana.scrape_loop()"
   ]
  },
  {
   "cell_type": "code",
   "execution_count": 4,
   "metadata": {},
   "outputs": [
    {
     "data": {
      "text/plain": [
       "'\\nRelevant papers:\\nhttps://www.google.com/url?sa=t&rct=j&q=&esrc=s&source=web&cd=&ved=2ahUKEwjH3PLE0-DwAhXLTd8KHVLqBqAQFjAHegQICRAD&url=http%3A%2F%2Fijece.iaescore.com%2Findex.php%2FIJECE%2Farticle%2Fdownload%2F10797%2F12871&usg=AOvVaw15WTcGSC4mRhN8uUm1yy3l\\n'"
      ]
     },
     "execution_count": 4,
     "metadata": {},
     "output_type": "execute_result"
    }
   ],
   "source": [
    "'''\n",
    "Relevant papers:\n",
    "https://www.google.com/url?sa=t&rct=j&q=&esrc=s&source=web&cd=&ved=2ahUKEwjH3PLE0-DwAhXLTd8KHVLqBqAQFjAHegQICRAD&url=http%3A%2F%2Fijece.iaescore.com%2Findex.php%2FIJECE%2Farticle%2Fdownload%2F10797%2F12871&usg=AOvVaw15WTcGSC4mRhN8uUm1yy3l\n",
    "'''"
   ]
  },
  {
   "cell_type": "code",
   "execution_count": null,
   "metadata": {},
   "outputs": [],
   "source": []
  }
 ],
 "metadata": {
  "kernelspec": {
   "display_name": "Python 3",
   "language": "python",
   "name": "python3"
  },
  "language_info": {
   "codemirror_mode": {
    "name": "ipython",
    "version": 3
   },
   "file_extension": ".py",
   "mimetype": "text/x-python",
   "name": "python",
   "nbconvert_exporter": "python",
   "pygments_lexer": "ipython3",
   "version": "3.8.3"
  }
 },
 "nbformat": 4,
 "nbformat_minor": 4
}
